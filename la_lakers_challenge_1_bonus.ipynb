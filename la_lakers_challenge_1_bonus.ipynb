{
 "cells": [
  {
   "cell_type": "code",
   "execution_count": 2,
   "metadata": {},
   "outputs": [],
   "source": [
    "from requests import get\n",
    "from bs4 import BeautifulSoup\n",
    "import csv"
   ]
  },
  {
   "cell_type": "code",
   "execution_count": 3,
   "metadata": {},
   "outputs": [],
   "source": [
    "url  = \"http://www.nba.com/teams/lakers/\"\n",
    "response = get(url)\n",
    "nba = BeautifulSoup(response.content, 'html.parser')"
   ]
  },
  {
   "cell_type": "code",
   "execution_count": 4,
   "metadata": {},
   "outputs": [],
   "source": [
    "nba_main = nba.find(class_=\"nba-player-index\")\n",
    "players = nba_main.find_all(\"section\", attrs={\"class\": \"nba-player-index__trending-item\"})"
   ]
  },
  {
   "cell_type": "code",
   "execution_count": 5,
   "metadata": {},
   "outputs": [
    {
     "name": "stdout",
     "output_type": "stream",
     "text": [
      "22\n"
     ]
    }
   ],
   "source": [
    "print(len(players))"
   ]
  },
  {
   "cell_type": "code",
   "execution_count": 6,
   "metadata": {},
   "outputs": [
    {
     "name": "stdout",
     "output_type": "stream",
     "text": [
      "2LonzoBallGuard6 ft 6 in | 190 lbs\n"
     ]
    }
   ],
   "source": [
    "print(players[0].text)"
   ]
  },
  {
   "cell_type": "code",
   "execution_count": 90,
   "metadata": {},
   "outputs": [
    {
     "name": "stdout",
     "output_type": "stream",
     "text": [
      "190\n",
      "190\n",
      "190\n",
      "190\n",
      "190\n",
      "190\n",
      "190\n",
      "190\n",
      "190\n",
      "190\n",
      "190\n",
      "190\n",
      "190\n",
      "190\n",
      "190\n",
      "190\n",
      "190\n",
      "190\n",
      "190\n",
      "190\n",
      "190\n",
      "190\n"
     ]
    }
   ],
   "source": [
    "player_details = nba.find(class_=\"nba-player-index__details\")\n",
    "#print(player_details)\n",
    "details = player_details.find_all(\"span\")\n",
    "for i in range(len(players)):\n",
    "    pos = details[0].text\n",
    "    ht_wt = details[1].text\n",
    "    ht, wt = ht_wt.split(\"|\")\n",
    "    wt_lbs = wt.split(\"lbs\")[0].strip()\n",
    "    print(int(wt_lbs))\n"
   ]
  },
  {
   "cell_type": "code",
   "execution_count": 42,
   "metadata": {},
   "outputs": [
    {
     "name": "stdout",
     "output_type": "stream",
     "text": [
      "Lonzo Ball\n",
      "Michael Beasley\n",
      "Joel Berry II\n",
      "Isaac Bonga\n",
      "Kentavious Caldwell-Pope\n",
      "Jeffrey Carroll\n",
      "Alex Caruso\n",
      "Luol Deng\n",
      "Josh Hart\n",
      "Andre Ingram\n",
      "Brandon Ingram\n",
      "LeBron James\n",
      "Kyle Kuzma\n",
      "JaVale McGee\n",
      "Svi Mykhailiuk\n",
      "Gary Payton II\n",
      "Rajon Rondo\n",
      "Lance Stephenson\n",
      "Moritz Wagner\n",
      "Travis Wear\n",
      "Johnathan Williams\n",
      "Ivica Zubac\n"
     ]
    }
   ],
   "source": [
    "player_name_tags = nba.find_all(\"p\", attrs={\"class\": \"nba-player-index__name\"})\n",
    "\n",
    "for player_name_tag in player_name_tags:\n",
    "    br_tag = player_name_tag.find(\"br\")\n",
    "    if br_tag is not None:\n",
    "        first_name = br_tag.previous\n",
    "        last_name = br_tag.next\n",
    "        print(first_name, last_name)"
   ]
  },
  {
   "cell_type": "code",
   "execution_count": 50,
   "metadata": {},
   "outputs": [
    {
     "ename": "AttributeError",
     "evalue": "ResultSet object has no attribute 'text'. You're probably treating a list of items like a single item. Did you call find_all() when you meant to call find()?",
     "output_type": "error",
     "traceback": [
      "\u001b[0;31m---------------------------------------------------------------------------\u001b[0m",
      "\u001b[0;31mAttributeError\u001b[0m                            Traceback (most recent call last)",
      "\u001b[0;32m<ipython-input-50-b67302df9827>\u001b[0m in \u001b[0;36m<module>\u001b[0;34m()\u001b[0m\n\u001b[0;32m----> 1\u001b[0;31m \u001b[0mplayer_details\u001b[0m \u001b[0;34m=\u001b[0m \u001b[0mnba\u001b[0m\u001b[0;34m.\u001b[0m\u001b[0mfind_all\u001b[0m\u001b[0;34m(\u001b[0m\u001b[0;34m\"div\"\u001b[0m\u001b[0;34m,\u001b[0m \u001b[0mattrs\u001b[0m\u001b[0;34m=\u001b[0m\u001b[0;34m{\u001b[0m\u001b[0;34m\"class\"\u001b[0m\u001b[0;34m:\u001b[0m \u001b[0;34m\"nba-player-index__details\"\u001b[0m\u001b[0;34m}\u001b[0m\u001b[0;34m)\u001b[0m\u001b[0;34m.\u001b[0m\u001b[0mtext\u001b[0m\u001b[0;34m.\u001b[0m\u001b[0msplit\u001b[0m\u001b[0;34m(\u001b[0m\u001b[0;34m\"|\"\u001b[0m\u001b[0;34m)\u001b[0m\u001b[0;34m\u001b[0m\u001b[0m\n\u001b[0m\u001b[1;32m      2\u001b[0m \u001b[0;34m\u001b[0m\u001b[0m\n\u001b[1;32m      3\u001b[0m \u001b[0;32mfor\u001b[0m \u001b[0mplayer_detail\u001b[0m \u001b[0;32min\u001b[0m \u001b[0mplayer_details\u001b[0m\u001b[0;34m:\u001b[0m\u001b[0;34m\u001b[0m\u001b[0m\n\u001b[1;32m      4\u001b[0m     \u001b[0mpos\u001b[0m \u001b[0;34m=\u001b[0m \u001b[0mplayer_detail\u001b[0m\u001b[0;34m[\u001b[0m\u001b[0;36m0\u001b[0m\u001b[0;34m]\u001b[0m\u001b[0;34m\u001b[0m\u001b[0m\n\u001b[1;32m      5\u001b[0m     \u001b[0mprint\u001b[0m\u001b[0;34m(\u001b[0m\u001b[0mpos\u001b[0m\u001b[0;34m)\u001b[0m\u001b[0;34m\u001b[0m\u001b[0m\n",
      "\u001b[0;32m/usr/local/lib/python3.7/site-packages/bs4/element.py\u001b[0m in \u001b[0;36m__getattr__\u001b[0;34m(self, key)\u001b[0m\n\u001b[1;32m   1882\u001b[0m     \u001b[0;32mdef\u001b[0m \u001b[0m__getattr__\u001b[0m\u001b[0;34m(\u001b[0m\u001b[0mself\u001b[0m\u001b[0;34m,\u001b[0m \u001b[0mkey\u001b[0m\u001b[0;34m)\u001b[0m\u001b[0;34m:\u001b[0m\u001b[0;34m\u001b[0m\u001b[0m\n\u001b[1;32m   1883\u001b[0m         raise AttributeError(\n\u001b[0;32m-> 1884\u001b[0;31m             \u001b[0;34m\"ResultSet object has no attribute '%s'. You're probably treating a list of items like a single item. Did you call find_all() when you meant to call find()?\"\u001b[0m \u001b[0;34m%\u001b[0m \u001b[0mkey\u001b[0m\u001b[0;34m\u001b[0m\u001b[0m\n\u001b[0m\u001b[1;32m   1885\u001b[0m         )\n",
      "\u001b[0;31mAttributeError\u001b[0m: ResultSet object has no attribute 'text'. You're probably treating a list of items like a single item. Did you call find_all() when you meant to call find()?"
     ]
    }
   ],
   "source": [
    "player_details = nba.find_all(\"div\", attrs={\"class\": \"nba-player-index__details\"}).text.split(\"|\")\n",
    "\n",
    "for player_detail in player_details:\n",
    "    pos = player_detail[0]\n",
    "    print(pos)"
   ]
  },
  {
   "cell_type": "code",
   "execution_count": 47,
   "metadata": {},
   "outputs": [
    {
     "data": {
      "text/plain": [
       "[<div class=\"nba-player-index__details\"><span>Guard</span><span><strong>6</strong> ft <strong>6</strong> in | <strong>190</strong> lbs</span></div>,\n",
       " <div class=\"nba-player-index__details\"><span>Forward</span><span><strong>6</strong> ft <strong>9</strong> in | <strong>235</strong> lbs</span></div>,\n",
       " <div class=\"nba-player-index__details\"><span>Guard</span><span><strong>6</strong> ft <strong>0</strong> in | <strong>195</strong> lbs</span></div>,\n",
       " <div class=\"nba-player-index__details\"><span>Guard</span><span><strong>6</strong> ft <strong>9</strong> in | <strong>203</strong> lbs</span></div>,\n",
       " <div class=\"nba-player-index__details\"><span>Guard</span><span><strong>6</strong> ft <strong>5</strong> in | <strong>205</strong> lbs</span></div>,\n",
       " <div class=\"nba-player-index__details\"><span>Forward</span><span><strong>-</strong> ft <strong>-</strong> in | <strong></strong> lbs</span></div>,\n",
       " <div class=\"nba-player-index__details\"><span>Guard</span><span><strong>6</strong> ft <strong>5</strong> in | <strong>186</strong> lbs</span></div>,\n",
       " <div class=\"nba-player-index__details\"><span>Forward</span><span><strong>6</strong> ft <strong>9</strong> in | <strong>220</strong> lbs</span></div>,\n",
       " <div class=\"nba-player-index__details\"><span>Guard</span><span><strong>6</strong> ft <strong>5</strong> in | <strong>215</strong> lbs</span></div>,\n",
       " <div class=\"nba-player-index__details\"><span>Guard</span><span><strong>6</strong> ft <strong>3</strong> in | <strong>190</strong> lbs</span></div>,\n",
       " <div class=\"nba-player-index__details\"><span>Forward-Guard</span><span><strong>6</strong> ft <strong>9</strong> in | <strong>190</strong> lbs</span></div>,\n",
       " <div class=\"nba-player-index__details\"><span>Forward-Guard</span><span><strong>6</strong> ft <strong>8</strong> in | <strong>250</strong> lbs</span></div>,\n",
       " <div class=\"nba-player-index__details\"><span>Forward</span><span><strong>6</strong> ft <strong>9</strong> in | <strong>220</strong> lbs</span></div>,\n",
       " <div class=\"nba-player-index__details\"><span>Center</span><span><strong>7</strong> ft <strong>0</strong> in | <strong>270</strong> lbs</span></div>,\n",
       " <div class=\"nba-player-index__details\"><span>Forward</span><span><strong>6</strong> ft <strong>8</strong> in | <strong>212</strong> lbs</span></div>,\n",
       " <div class=\"nba-player-index__details\"><span>Guard</span><span><strong>6</strong> ft <strong>3</strong> in | <strong>190</strong> lbs</span></div>,\n",
       " <div class=\"nba-player-index__details\"><span>Guard</span><span><strong>6</strong> ft <strong>1</strong> in | <strong>186</strong> lbs</span></div>,\n",
       " <div class=\"nba-player-index__details\"><span>Guard</span><span><strong>6</strong> ft <strong>6</strong> in | <strong>230</strong> lbs</span></div>,\n",
       " <div class=\"nba-player-index__details\"><span>Forward</span><span><strong>7</strong> ft <strong>0</strong> in | <strong>241</strong> lbs</span></div>,\n",
       " <div class=\"nba-player-index__details\"><span>Forward</span><span><strong>6</strong> ft <strong>10</strong> in | <strong>225</strong> lbs</span></div>,\n",
       " <div class=\"nba-player-index__details\"><span>Forward</span><span><strong>6</strong> ft <strong>9</strong> in | <strong>228</strong> lbs</span></div>,\n",
       " <div class=\"nba-player-index__details\"><span>Center</span><span><strong>7</strong> ft <strong>1</strong> in | <strong>240</strong> lbs</span></div>]"
      ]
     },
     "execution_count": 47,
     "metadata": {},
     "output_type": "execute_result"
    }
   ],
   "source": [
    "player_details"
   ]
  },
  {
   "cell_type": "code",
   "execution_count": null,
   "metadata": {},
   "outputs": [],
   "source": []
  }
 ],
 "metadata": {
  "kernelspec": {
   "display_name": "Python 3",
   "language": "python",
   "name": "python3"
  },
  "language_info": {
   "codemirror_mode": {
    "name": "ipython",
    "version": 3
   },
   "file_extension": ".py",
   "mimetype": "text/x-python",
   "name": "python",
   "nbconvert_exporter": "python",
   "pygments_lexer": "ipython3",
   "version": "3.7.0"
  }
 },
 "nbformat": 4,
 "nbformat_minor": 2
}
