{
 "cells": [
  {
   "cell_type": "code",
   "execution_count": 19,
   "metadata": {},
   "outputs": [],
   "source": [
    "from requests import get\n",
    "from bs4 import BeautifulSoup\n",
    "import csv\n",
    "\n",
    "url  = \"https://www.49ers.com/team/players-roster/\"\n",
    "response = get(url)\n",
    "nfl = BeautifulSoup(response.content, 'html.parser')\n",
    "\n",
    "nfl_main = nfl.find(id=\"main-content\")\n",
    "nfl_roster = nfl_main.find(summary=\"Roster\")\n",
    "nfl_roster_body = nfl_main.find(\"tbody\")\n",
    "\n",
    "player_trs = nfl_roster_body.find_all(\"tr\")\n",
    "\n",
    "with open('college.csv', 'w') as csv_file:\n",
    "    for player_tr in player_trs:\n",
    "        player_tds = player_tr.find_all(\"td\")\n",
    "        writer = csv.writer(csv_file)\n",
    "        writer.writerow([player_tds[7].text.strip()])"
   ]
  }
 ],
 "metadata": {
  "kernelspec": {
   "display_name": "Python 3",
   "language": "python",
   "name": "python3"
  },
  "language_info": {
   "codemirror_mode": {
    "name": "ipython",
    "version": 3
   },
   "file_extension": ".py",
   "mimetype": "text/x-python",
   "name": "python",
   "nbconvert_exporter": "python",
   "pygments_lexer": "ipython3",
   "version": "3.7.0"
  }
 },
 "nbformat": 4,
 "nbformat_minor": 2
}
