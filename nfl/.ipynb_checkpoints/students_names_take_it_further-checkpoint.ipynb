{
 "cells": [
  {
   "cell_type": "code",
   "execution_count": 2,
   "metadata": {},
   "outputs": [],
   "source": [
    "# from ohmysportsfeedspy import MySportsFeeds\n",
    "import json\n",
    "import pprint"
   ]
  },
  {
   "cell_type": "code",
   "execution_count": 5,
   "metadata": {},
   "outputs": [],
   "source": [
    "# Data_query = MySportsFeeds('1.2', verbose=True)\n",
    "# Data_query.authenticate('afc252ab406ec30e66d849ab957c6cc6275bbda94b2032a1f6f0c8b5ca75fd2a', 'ee88662fbead382e5f4352709331284f100e24e512f45d3f73d1e151c986aaa8')\n",
    "\n",
    "UID = \"afc252ab406ec30e66d849ab957c6cc6275bbda94b2032a1f6f0c8b5ca75fd2a\"\n",
    "SECRET = \"ee88662fbead382e5f4352709331284f100e24e512f45d3f73d1e151c986aaa8\""
   ]
  },
  {
   "cell_type": "code",
   "execution_count": 18,
   "metadata": {},
   "outputs": [
    {
     "ename": "SyntaxError",
     "evalue": "invalid syntax (<ipython-input-18-04628add1014>, line 3)",
     "output_type": "error",
     "traceback": [
      "\u001b[0;36m  File \u001b[0;32m\"<ipython-input-18-04628add1014>\"\u001b[0;36m, line \u001b[0;32m3\u001b[0m\n\u001b[0;31m    client = OAuth2::Client.new(UID, SECRET,\"https://api.intra.fr\")\u001b[0m\n\u001b[0m                   ^\u001b[0m\n\u001b[0;31mSyntaxError\u001b[0m\u001b[0;31m:\u001b[0m invalid syntax\n"
     ]
    }
   ],
   "source": [
    "# Output = Data_query.msf_get_data(league='nfl', season='upcoming', feed='active_players', team=['SF'], format='json')\n",
    "scopes = ['public', 'forum', 'projects', 'profile', 'elearning', 'tig']\n",
    "client = OAuth2::Client.new(UID, SECRET, site: \"https://api.intra.fr\")"
   ]
  },
  {
   "cell_type": "code",
   "execution_count": null,
   "metadata": {},
   "outputs": [],
   "source": []
  }
 ],
 "metadata": {
  "kernelspec": {
   "display_name": "Python 3",
   "language": "python",
   "name": "python3"
  },
  "language_info": {
   "codemirror_mode": {
    "name": "ipython",
    "version": 3
   },
   "file_extension": ".py",
   "mimetype": "text/x-python",
   "name": "python",
   "nbconvert_exporter": "python",
   "pygments_lexer": "ipython3",
   "version": "3.7.0"
  }
 },
 "nbformat": 4,
 "nbformat_minor": 2
}
