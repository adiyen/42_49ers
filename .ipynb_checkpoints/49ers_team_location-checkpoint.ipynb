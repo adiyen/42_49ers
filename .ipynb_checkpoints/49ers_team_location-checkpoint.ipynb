{
 "cells": [
  {
   "cell_type": "code",
   "execution_count": 1,
   "metadata": {},
   "outputs": [],
   "source": [
    "from geopy.geocoders import Yandex #works\n",
    "import certifi\n",
    "import ssl\n",
    "import geopy.geocoders\n",
    "import csv\n",
    "import plotly.plotly as py\n",
    "import plotly\n",
    "import pandas as pd"
   ]
  },
  {
   "cell_type": "code",
   "execution_count": 2,
   "metadata": {},
   "outputs": [],
   "source": [
    "ctx = ssl.create_default_context(cafile=certifi.where())\n",
    "geopy.geocoders.options.default_ssl_context = ctx"
   ]
  },
  {
   "cell_type": "code",
   "execution_count": 3,
   "metadata": {},
   "outputs": [],
   "source": [
    "plotly.tools.set_credentials_file(username='krishnar', api_key='aP9JtUuuVf19iF1GBbMZ')\n",
    "player_lat_long = pd.read_csv('player_file.csv')\n",
    "player_lat_long_home = pd.read_csv('player_hometown.csv')"
   ]
  },
  {
   "cell_type": "code",
   "execution_count": 4,
   "metadata": {},
   "outputs": [],
   "source": [
    "data = [dict(\n",
    "    type = 'scattergeo',\n",
    "    locationmode = 'USA-states',\n",
    "    lon = player_lat_long['Longitude'],\n",
    "    lat = player_lat_long['Latitude'],\n",
    "    text = player_lat_long['Player'] + ' ',\n",
    "    mode = 'markers',\n",
    "    marker = dict(\n",
    "        color = \"rgb(100, 25, 25)\"\n",
    "    )\n",
    "    )]\n",
    "\n",
    "data_home = [dict(\n",
    "    type = 'scattergeo',\n",
    "    locationmode = 'USA-states',\n",
    "    lon = player_lat_long_home['Longitude'],\n",
    "    lat = player_lat_long_home['Latitude'],\n",
    "    text = player_lat_long_home['Player'] + ' ',\n",
    "    mode = 'markers',\n",
    "    marker = dict(\n",
    "        color = \"rgb(0, 205, 250)\"\n",
    "    )\n",
    "    )]\n",
    "\n",
    "\n",
    "layout = dict(\n",
    "    title = '49ers_college',\n",
    "    geo = dict(\n",
    "        scope='usa',\n",
    "        projection=dict(type='albers usa'),\n",
    "        showland = True,\n",
    "        landcolor = \"rgb(255, 255, 255)\",\n",
    "        subunitcolor = \"rgb(0, 217, 217)\",\n",
    "        countrywidth = 0.5,\n",
    "        subunitwidth = 0.5\n",
    "    )\n",
    ")\n",
    "\n",
    "layout_home = dict(\n",
    "    title = '49ers_hometown',\n",
    "    geo = dict(\n",
    "        scope='usa',\n",
    "        projection=dict(type='albers usa'),\n",
    "        showland = True,\n",
    "        landcolor = \"rgb(255, 255, 255)\",\n",
    "        subunitcolor = \"rgb(0, 217, 217)\",\n",
    "        countrywidth = 0.5,\n",
    "        subunitwidth = 0.5\n",
    "    )\n",
    ")"
   ]
  },
  {
   "cell_type": "code",
   "execution_count": 13,
   "metadata": {},
   "outputs": [
    {
     "name": "stdout",
     "output_type": "stream",
     "text": [
      "High five! You successfully sent some data to your account on plotly. View your plot in your browser at https://plot.ly/~krishnar/0 or inside your plot.ly account where it is named 'player_file.csv'\n"
     ]
    },
    {
     "data": {
      "text/html": [
       "<iframe id=\"igraph\" scrolling=\"no\" style=\"border:none;\" seamless=\"seamless\" src=\"https://plot.ly/~krishnar/0.embed\" height=\"525px\" width=\"100%\"></iframe>"
      ],
      "text/plain": [
       "<plotly.tools.PlotlyDisplay object>"
      ]
     },
     "execution_count": 13,
     "metadata": {},
     "output_type": "execute_result"
    }
   ],
   "source": [
    "fig = dict([data=data, data_home], [layout=layout, layout_hom=layout_home])\n",
    "py.iplot(fig, validate=False, filename='player_file.csv')"
   ]
  },
  {
   "cell_type": "code",
   "execution_count": 12,
   "metadata": {},
   "outputs": [
    {
     "data": {
      "text/html": [
       "<iframe id=\"igraph\" scrolling=\"no\" style=\"border:none;\" seamless=\"seamless\" src=\"https://plot.ly/~krishnar/2.embed\" height=\"525px\" width=\"100%\"></iframe>"
      ],
      "text/plain": [
       "<plotly.tools.PlotlyDisplay object>"
      ]
     },
     "execution_count": 12,
     "metadata": {},
     "output_type": "execute_result"
    }
   ],
   "source": [
    "fig_home = dict(data=data_home, layout=layout_home)\n",
    "py.iplot(fig_home, validate=False, filename='player_hometown.csv')"
   ]
  },
  {
   "cell_type": "code",
   "execution_count": null,
   "metadata": {},
   "outputs": [],
   "source": []
  }
 ],
 "metadata": {
  "kernelspec": {
   "display_name": "Python 3",
   "language": "python",
   "name": "python3"
  },
  "language_info": {
   "codemirror_mode": {
    "name": "ipython",
    "version": 3
   },
   "file_extension": ".py",
   "mimetype": "text/x-python",
   "name": "python",
   "nbconvert_exporter": "python",
   "pygments_lexer": "ipython3",
   "version": "3.7.0"
  }
 },
 "nbformat": 4,
 "nbformat_minor": 2
}
