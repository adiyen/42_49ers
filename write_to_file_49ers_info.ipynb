{
 "cells": [
  {
   "cell_type": "code",
   "execution_count": 8,
   "metadata": {},
   "outputs": [],
   "source": [
    "from requests import get\n",
    "from bs4 import BeautifulSoup\n",
    "import csv\n",
    "\n",
    "url  = \"https://www.49ers.com/team/players-roster/\"\n",
    "response = get(url)\n",
    "nfl = BeautifulSoup(response.content, 'html.parser')\n",
    "\n",
    "nfl_main = nfl.find(id=\"main-content\")\n",
    "nfl_roster = nfl_main.find(summary=\"Roster\")\n",
    "nfl_roster_body = nfl_main.find(\"tbody\")\n",
    "\n",
    "player_trs = nfl_roster_body.find_all(\"tr\")\n",
    "\n",
    "with open('49ers_all_info.csv', 'w') as csv_file:\n",
    "    writer = csv.writer(csv_file)\n",
    "    writer.writerow([\"Name\", \"#\", \"Pos\", \"HT\", \"WT\", \"Age\", \"Exp\", \"College\"])\n",
    "    for player_tr in player_trs:\n",
    "        name = player_tds[0].text.strip()\n",
    "        numb = player_tds[1].text.strip()\n",
    "        pos = player_tds[2].text.strip()\n",
    "        HT = player_tds[3].text.strip()\n",
    "        WT = player_tds[4].text.strip()\n",
    "        Age = player_tds[5].text.strip()\n",
    "        Exp = player_tds[6].text.strip()\n",
    "        uni = player_tds[7].text.strip()\n",
    "        player_tds = player_tr.find_all(\"td\")\n",
    "        writer = csv.writer(csv_file)\n",
    "        writer.writerow([name, numb, pos, HT, WT, Age, Exp, uni])"
   ]
  },
  {
   "cell_type": "code",
   "execution_count": null,
   "metadata": {},
   "outputs": [],
   "source": []
  }
 ],
 "metadata": {
  "kernelspec": {
   "display_name": "Python 3",
   "language": "python",
   "name": "python3"
  },
  "language_info": {
   "codemirror_mode": {
    "name": "ipython",
    "version": 3
   },
   "file_extension": ".py",
   "mimetype": "text/x-python",
   "name": "python",
   "nbconvert_exporter": "python",
   "pygments_lexer": "ipython3",
   "version": "3.7.0"
  }
 },
 "nbformat": 4,
 "nbformat_minor": 2
}
